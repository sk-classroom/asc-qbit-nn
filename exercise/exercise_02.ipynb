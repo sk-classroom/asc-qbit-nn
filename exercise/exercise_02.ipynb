{
 "cells": [
  {
   "cell_type": "markdown",
   "metadata": {},
   "source": [
    "[![Open In Colab](https://colab.research.google.com/assets/colab-badge.svg)](http://colab.research.google.com/github/sk-classroom/asc-qbit-nn/blob/main/exercise/exercise_01.ipynb)\n",
    "\n",
    "# Learning MNIST with a 1-bit Neural Network \n",
    "\n",
    "\n",
    "In this exercise, we will learn how to train a 1-bit neural network to classify handwritten digits.  \n",
    "\n",
    "# Preparation\n",
    "\n",
    "We will use the [bitnet library](https://github.com/kyegomez/BitNet), together with the standard Python stack.  \n"
   ]
  },
  {
   "cell_type": "code",
   "execution_count": null,
   "metadata": {},
   "outputs": [],
   "source": [
    "#! pip install bitnet\n",
    "#! pip install transformers"
   ]
  },
  {
   "cell_type": "code",
   "execution_count": null,
   "metadata": {},
   "outputs": [],
   "source": [
    "from bitnet import *\n",
    "import torch\n",
    "from torch import optim\n",
    "import torch.nn as nn\n",
    "from torchvision import datasets, transforms\n",
    "import matplotlib.pyplot as plt"
   ]
  },
  {
   "cell_type": "markdown",
   "metadata": {},
   "source": [
    "# Training 1-bit Neural Network \n",
    "\n",
    "\n",
    "## Task \n",
    "\n",
    "We will train a neural network to classify handwritten digits from the MNIST dataset.  MNIST dataset contains 70,000 28x28 grayscale images of handwritten digits. "
   ]
  },
  {
   "cell_type": "code",
   "execution_count": null,
   "metadata": {},
   "outputs": [],
   "source": [
    "# Downloading and preprocessing the MNIST dataset\n",
    "transform = transforms.Compose(\n",
    "    [\n",
    "        transforms.ToTensor(),\n",
    "        transforms.Normalize((0.1307,), (0.3081,)),\n",
    "        transforms.Lambda(lambda x: x.view(-1, 784)),\n",
    "    ]\n",
    ")\n",
    "train_dataset = datasets.MNIST(\"data\", train=True, download=True, transform=transform)\n",
    "train_loader = torch.utils.data.DataLoader(train_dataset, batch_size=256, shuffle=True)\n",
    "\n",
    "test_dataset = datasets.MNIST(\"data\", train=False, download=True, transform=transform)\n",
    "test_loader = torch.utils.data.DataLoader(test_dataset, batch_size=256, shuffle=True)"
   ]
  },
  {
   "cell_type": "markdown",
   "metadata": {},
   "source": [
    "## Train a 1-bit neural network\n",
    "\n",
    "Our neural network should be composed of the following components: \n",
    "- We use 2 (bit-)linear layers with ReLU activation, with 128 hidden neurons.\n",
    "- The input dimension should be 784 (28x28 pixels).\n",
    "- The output dimension should be 10 (10 classes for 10 digits).\n",
    "- No need to use softmax function for the output layer. \n",
    "\n"
   ]
  },
  {
   "cell_type": "code",
   "execution_count": null,
   "metadata": {},
   "outputs": [],
   "source": [
    "import bitnet\n",
    "\n",
    "# TODO: Define the model\n",
    "# Two linear layers with ReLU activation, followed by a sigmoid function.\n",
    "model = ..."
   ]
  },
  {
   "cell_type": "markdown",
   "metadata": {},
   "source": [
    "Train the model using `torch.nn.CrossEntropyLoss`"
   ]
  },
  {
   "cell_type": "code",
   "execution_count": null,
   "metadata": {},
   "outputs": [],
   "source": [
    "from tqdm import tqdm\n",
    "\n",
    "\n",
    "def calculate_accuracy(output, target):\n",
    "    \"\"\"\n",
    "    Calculate the accuracy of the model on the given output and target.\n",
    "    \"\"\"\n",
    "    _, predicted = torch.max(output, 1)\n",
    "    correct = (predicted == target).sum().item()\n",
    "    accuracy = correct / target.size(0)\n",
    "    return accuracy\n",
    "\n",
    "\n",
    "def train(model, optimizer, criterion, n_epochs):\n",
    "    \"\"\"\n",
    "    Train a model using the given optimizer and criterion.\n",
    "\n",
    "    Parameters\n",
    "    ----------\n",
    "    model : torch.nn.Module\n",
    "        The model to train.\n",
    "    optimizer : torch.optim.Optimizer\n",
    "        The optimizer to use for training.\n",
    "    criterion : torch.nn.Module\n",
    "        The loss function to use for training.\n",
    "    n_epochs : int\n",
    "        The number of epochs to train for.\n",
    "\n",
    "    Returns\n",
    "    -------\n",
    "    list\n",
    "        A list of the accuracies of the model at each loss value.\n",
    "    \"\"\"\n",
    "    # Training loop\n",
    "    loss_history = []\n",
    "    pbar = tqdm(range(n_epochs * len(train_loader)))\n",
    "    for epoch in range(n_epochs):\n",
    "        for batch_idx, (data, target) in enumerate(train_loader):\n",
    "            optimizer.zero_grad()\n",
    "\n",
    "            output = model(data)\n",
    "            output = output.squeeze(1)\n",
    "            loss = criterion(output, target)\n",
    "            loss.backward()\n",
    "\n",
    "            optimizer.step()\n",
    "\n",
    "            pbar.update(1)\n",
    "\n",
    "            pbar.set_postfix({\"Loss\": loss.item()})\n",
    "            loss_history.append(loss.item())\n",
    "\n",
    "    return loss_history\n",
    "\n",
    "\n",
    "def evaluate(model, loader):\n",
    "    \"\"\"\n",
    "    Evaluate the model on the given loader.\n",
    "\n",
    "\n",
    "    Parameters\n",
    "    ----------\n",
    "    model : torch.nn.Module\n",
    "        The model to evaluate.\n",
    "    loader : torch.utils.data.DataLoader\n",
    "        The loader to use for evaluating.\n",
    "\n",
    "    Returns\n",
    "    -------\n",
    "    float\n",
    "        The accuracy of the model on the loader.\n",
    "    \"\"\"\n",
    "    model.eval()\n",
    "    target = []\n",
    "    predicted = []\n",
    "    with torch.no_grad():\n",
    "        for data, _target in loader:\n",
    "            output = model(data)\n",
    "            output = output.squeeze(1)\n",
    "            target.append(_target)\n",
    "            predicted.append(output)\n",
    "\n",
    "    output = torch.cat(predicted)\n",
    "    target = torch.cat(target)\n",
    "    acc = calculate_accuracy(output, target)\n",
    "    return acc"
   ]
  },
  {
   "cell_type": "code",
   "execution_count": null,
   "metadata": {},
   "outputs": [],
   "source": [
    "optimizer = optim.AdamW(model.parameters(), lr=0.005)\n",
    "criterion = nn.CrossEntropyLoss()\n",
    "n_epochs = 5\n",
    "acc_history = train(\n",
    "    model=model, optimizer=optimizer, criterion=criterion, n_epochs=n_epochs\n",
    ")"
   ]
  },
  {
   "cell_type": "code",
   "execution_count": null,
   "metadata": {},
   "outputs": [],
   "source": [
    "import matplotlib.pyplot as plt\n",
    "import numpy as np\n",
    "\n",
    "# Assuming 'train_loader' is defined and is a DataLoader for the training dataset\n",
    "dataiter = iter(train_loader)\n",
    "images, labels = next(dataiter)\n",
    "\n",
    "# Sample 10 random images\n",
    "idxs = np.random.choice(range(len(images)), 40, replace=False)\n",
    "sampled_images = images[idxs]\n",
    "sampled_labels = labels[idxs]\n",
    "\n",
    "# Plotting\n",
    "fig, axes = plt.subplots(\n",
    "    4, 10, figsize=(20, 8)\n",
    ")  # Adjusted for 3 additional rows, total 4 rows\n",
    "for i, ax in enumerate(axes.flatten()):  # Flatten the 2D array of axes\n",
    "    if i < len(sampled_images):  # Check to avoid index out of range\n",
    "        pred = model(sampled_images[i].unsqueeze(0))\n",
    "        pred = torch.argmax(pred, dim=2).numpy()[0, 0]\n",
    "        img = (\n",
    "            sampled_images[i].squeeze().reshape((28, 28))\n",
    "        )  # Assuming images are 1 channel (grayscale)\n",
    "        ax.imshow(img, cmap=\"gray\")\n",
    "        ax.set_title(f\"Predited: {pred}\")\n",
    "    ax.axis(\"off\")\n",
    "plt.show()"
   ]
  },
  {
   "cell_type": "markdown",
   "metadata": {},
   "source": [
    "# Comparison with full-precision neural networks. \n",
    "\n",
    "- Is 1-bit neural network better than a full-precision neural network? \n",
    "- How do the training times compare? \n",
    "- How do the accuracies compare? "
   ]
  },
  {
   "cell_type": "code",
   "execution_count": null,
   "metadata": {},
   "outputs": [],
   "source": [
    "# TODO: Define the full-precision model\n",
    "model_fp = ....\n",
    "\n"
   ]
  },
  {
   "cell_type": "code",
   "execution_count": null,
   "metadata": {},
   "outputs": [],
   "source": [
    "optimizer = optim.AdamW(model_fp.parameters(), lr=0.005)\n",
    "criterion = nn.CrossEntropyLoss()\n",
    "n_epochs = 5\n",
    "acc_history_fp = train(\n",
    "    model=model_fp,\n",
    "    optimizer=optimizer,\n",
    "    criterion=criterion,\n",
    "    n_epochs=n_epochs,\n",
    ")"
   ]
  },
  {
   "cell_type": "markdown",
   "metadata": {},
   "source": [
    "## Q1: Is 1-bit neural network faster in training than the full-precision counterpart? \n",
    "\n",
    "\n",
    "## Q2: How do the accuracies compare? \n"
   ]
  },
  {
   "cell_type": "code",
   "execution_count": null,
   "metadata": {},
   "outputs": [],
   "source": [
    "import matplotlib.pyplot as plt\n",
    "import seaborn as sns\n",
    "\n",
    "sns.set_style(\"white\")\n",
    "sns.set(font_scale=1.2)\n",
    "sns.set_style(\"ticks\")\n",
    "fig, ax = plt.subplots(figsize=(7, 5))\n",
    "\n",
    "ax = sns.lineplot(acc_history, label=\"1-bit\", marker=\"o\")\n",
    "ax = sns.lineplot(acc_history_fp, label=\"full-precision\", marker=\"s\")\n",
    "ax.set_xlabel(\"Epoch\")\n",
    "ax.set_ylabel(\"Accuracy (Test)\")\n",
    "ax.set_yscale(\"log\")\n",
    "sns.despine()"
   ]
  }
 ],
 "metadata": {
  "kernelspec": {
   "display_name": "applsoftcomp",
   "language": "python",
   "name": "python3"
  },
  "language_info": {
   "codemirror_mode": {
    "name": "ipython",
    "version": 3
   },
   "file_extension": ".py",
   "mimetype": "text/x-python",
   "name": "python",
   "nbconvert_exporter": "python",
   "pygments_lexer": "ipython3",
   "version": "3.11.7"
  }
 },
 "nbformat": 4,
 "nbformat_minor": 2
}
